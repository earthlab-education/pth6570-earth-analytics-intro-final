{
 "cells": [
  {
   "cell_type": "markdown",
   "metadata": {},
   "source": [
    "# Future of Sorghastrum nutans in Colorado's National Grasslands"
   ]
  },
  {
   "cell_type": "markdown",
   "metadata": {},
   "source": [
    "### Colorado's National Grasslands\n",
    "Colorado has two national grassland units: Pawnee National Grassland and Comanche National Grasslands.\n",
    "\n",
    "\n",
    "### Pawnee National Grassland\n",
    "\n",
    "Pawnee National Grasslands occurs on a 30-by-60 mile area, 193,060 acres of which is managed by the National Grassland, with the remainder being composed of private late, Stateof Colorado land, and Cthe Central Plains Experimental Range.\n",
    "\n",
    "<figure style=\"display: inline-block; border: 1px dotted gray; margin: 20px;\">\n",
    "    <a title=\"Jeffrey Beall, CC BY-SA 2.0 &lt;https://creativecommons.org/licenses/by-sa/2.0&gt;, via Flickr\" href=\"https://www.flickr.com/photos/denverjeffrey/7940292242\"><img alt=\"Pawnee National Grassland in Weld County, Colorado\" src=\"https://live.staticflickr.com/8450/7940292242_afb200bfc7_5k.jpg\" style=\"float:left; height: 400px; vertical-align: top;\"> </a>\n",
    "<figcaption style=\"text-align: center; height: 400px; vertical-align: top\" > \n",
    "        <br><a href=\"ttps://commons.wikimedia.org/wiki/File:Picture_Canyon._Grass,_cactus,_and_the_canyon_wall,_Comanche_National_Grasslands.jpg\">Jeffrey Beall,</a> CC BY-SA 2.0\n",
    "        </figcaption>\n",
    "</figure>\n",
    "\n",
    "<figure style=\"display: inline-block; border: 1px dotted gray; margin: 20px;\">\n",
    "    <a title=\"Michael Kirsh, CC BY-SA 3.0 &lt;https://creativecommons.org/licenses/by-sa/3.0&gt;, via Wikimedia Commons\" href=\"https://www.flickr.com/photos/michaelkirsh/18285880811\"><img alt=\"Pawnee Buttes Evening Sky\" src=\"https://live.staticflickr.com/8782/18285880811_db88a046f0_k.jpg\"style=\"float:left; height: 400px; vertical-align: top;\"> </a>\n",
    "<figcaption style=\"text-align: center; height: 400px; vertical-align: top\" > \n",
    "        <br><a href=\"https://www.flickr.com/photos/michaelkirsh/18285880811\">Michael Kirsh</a>, CC BY-SA 2.0 \n",
    "        </figcaption>\n",
    "</figure>\n",
    "</figure>\n",
    "\n",
    "### Comanche National Grassland:\n",
    "\n",
    "<figure style=\"display: inline-block; border: 1px dotted gray; margin: 20px;\">\n",
    "    <a title=\"Peter Fitzgerald, CC BY-SA 3.0 &lt;https://creativecommons.org/licenses/by-sa/3.0&gt;, via Wikimedia Commons\" href=\"https://npgallery.nps.gov/GetAsset/99885213d0aa44af9309de11cf62250c/proxyhires\"><img alt=\"Pawnee National Grassland \n",
    "    in Weld County, Colorado\" src=\"https://npgallery.nps.gov/GetAsset/99885213d0aa44af9309de11cf62250c/proxyhires)\"style=\"float:left; height: 400px; vertical-align: top;\"> </a>\n",
    "<figcaption style=\"text-align: center; height: 400px; vertical-align: top\" > \n",
    "        <br><a href=\"https://npgallery.nps.gov/GetAsset/99885213d0aa44af9309de11cf62250c/proxyhires\">U.S. National Park Service</a>, Public Domain\n",
    "        </figcaption>\n",
    "</figure>\n",
    "</figure>\n",
    "\n",
    "<figure style=\"display: inline-block; border: 1px dotted gray; margin: 20px;\">\n",
    "    <a title=\"Peter Fitzgerald, CC BY-SA 2.0 &lt;https://creativecommons.org/licenses/by-sa/2.0&gt;, via Flickr\" href=\"https://commons.wikimedia.org/wiki/File:Picture_Canyon._Grass,_cactus,_and_the_canyon_wall,_Comanche_National_Grasslands.jpg\"><img alt=\"Picture Canyon. Grass, cactus, and the canyon wall, Comanche National Grasslands\"  src=\"https://upload.wikimedia.org/wikipedia/commons/thumb/7/78/Picture_Canyon._Grass%2C_cactus%2C_and_the_canyon_wall%2C_Comanche_National_Grasslands.jpg/512px-Picture_Canyon._Grass%2C_cactus%2C_and_the_canyon_wall%2C_Comanche_National_Grasslands.jpg\" style=\"float:left; height: 400px; vertical-align: top;\"> </a>\n",
    "<figcaption style=\"text-align: center; height: 400px; vertical-align: top\" > \n",
    "        <br><a href=\"https://commons.wikimedia.org/wiki/File:Picture_Canyon._Grass,_cactus,_and_the_canyon_wall,_Comanche_National_Grasslands.jpg\">Peter Fitzgerald,</a> CC BY-SA 3.0\n",
    "        </figcaption>\n",
    "</figure>"
   ]
  },
  {
   "cell_type": "markdown",
   "metadata": {},
   "source": [
    "### Data\n",
    "This analysis utilized data related to soil pH, elevation, and precipitation.\n",
    "\n",
    "* Soil pH: Soil pH data was obtained from Polaris. Soil data was downloaded for each grassland area with at 60 to 100 cm depth. Each grassland's soil pH data consisted of a series of arrays that were merged and clipped to the boundaries of the grassland.\n",
    "* Elevation: Elevation data was obtained from the Shuttle Radar Topography Mission (SRTM) dataset via the AppEEARS downloader. Data was downloaded for the full extent of both grasslands and then clipped to the bounds of each grassland. Elevation data was also used to calculat slope and aspect within each grasslands.\n",
    "* Precipitation: Data on projected precipitation in the year 2040 was obtained from MACA2. The CCSM4 climate model was used. Data was obtained for the rcp45 and rcp85 scenarios. Data was again clipped to the respective boundaries of each grassland.\n",
    "\n",
    "Individual data arrays for each data variable were harmonized prior to analysis."
   ]
  },
  {
   "cell_type": "markdown",
   "metadata": {},
   "source": [
    "### Model\n",
    "The suitability of the environment in each grassland was modeled under historical, rcp45, and rcp85 scenarios using the CCSM4 model. The following benchmarks were used as acceptable parameters for:\n",
    "* Soil pH: 4.8 to 8.0\n",
    "* Elevation: up to 6000ft? 4000ft?\n",
    "* Precipiation: 11 to 45 inches per year\n",
    "* Slope: \n",
    "* Aspect: \n",
    "\n",
    "\n",
    "Pawnee Aspect: \n",
    "Pawnee Aspect:"
   ]
  },
  {
   "cell_type": "markdown",
   "metadata": {},
   "source": [
    "### Results"
   ]
  },
  {
   "cell_type": "markdown",
   "metadata": {},
   "source": [
    "### Data Citations"
   ]
  }
 ],
 "metadata": {
  "language_info": {
   "name": "python"
  }
 },
 "nbformat": 4,
 "nbformat_minor": 2
}
