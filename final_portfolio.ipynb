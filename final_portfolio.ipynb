{
 "cells": [
  {
   "cell_type": "markdown",
   "metadata": {},
   "source": [
    "# Future Suitability for Sorghastrum nutans in Colorado's National Grasslands"
   ]
  },
  {
   "cell_type": "markdown",
   "metadata": {},
   "source": [
    "Since 1960, Colorado has had two national grassland units: Pawnee National Grassland and Comanche National Grasslands.\n",
    "\n",
    "<img src= https://live.staticflickr.com/8450/7940292242_afb200bfc7_5k.jpg>\n",
    "\n",
    "### Pawnee National Grassland\n",
    "Historically, the grassland was inhabited by American Indian groups who hunted bison that grazed in the area (Maxwell, 2020). In the nineteenth century, American Indian inhabitants were forcibly displaced by settlers (Maxwell, 2020). These settlers engaged in agriculture. Farmers in the area removed local grasses, resulted in dry, eroded soil and dust clouds. Many farmers left the area and in 1937, land was purchased from farmed and activities to restore soil conditions and plant life were undertaken by the Soil Conservation Service (Maxwell, 2020). The Pawnee National Grassland was established in 1960 (Maxwell, 2020).\n",
    "\n",
    "Today, the Pawnee National Grasslands occurs on a 30-by-60 mile area, 193,060 acres of which is managed by the National Grassland, with the remainder being composed of private late, State of Colorado land, and the Central Plains Experimental Range (Forest Service, n.d.).\n",
    "\n",
    "<img src=\"https://npgallery.nps.gov/GetAsset/99885213d0aa44af9309de11cf62250c/proxyhires)\">\n",
    "\n",
    "### Comanche National Grassland:\n",
    "The history of Comanche National Grassland is similar to that of Pawnee in several ways. The area of the Comanche National Grassland was historically inhabited by the Comanche from 1600s to the 1840s (Maxwell, 2023b). Like in the Pawnee National Grassland, the region's Comanche inhabitants were forcibly displaced by settlers whose poor agricultural practice combined with drought resulted in poor conditions during the Dust Bowl (Maxwell, 2023b).  Like the Pawnee National Grassland, the Comanche National Grassland was created in 1960 when lands restored after the dust bowl were moved to management of the Forest Service (Maxwell, 2023b).\n",
    "\n",
    "Today, the Comanche National Grasslands occurs is located consists of about 443,784 acres (Forest Service, n.d.). While large portions of land were under governmental management, some residents kept their land, resulting in a patchwork of private and public land within the area (Maxwell, 2023b).\n",
    "\n",
    "<a data-flickr-embed=\"true\" href=\"https://www.flickr.com/photos/tgpotterfield/15097655542\" title=\"Sorghastrum nutans (Indian grass) with Euthamia graminifolia foreground\"><img src=\"https://live.staticflickr.com/3895/15097655542_ecf96620ac_k.jpg\" width=\"2048\" height=\"1365\" alt=\"Sorghastrum nutans (Indian grass) with Euthamia graminifolia foreground\"/></a><script async src=\"//embedr.flickr.com/assets/client-code.js\" charset=\"utf-8\"></script>\n",
    "\n",
    "### Sorghastrum nutans\n",
    "\n",
    "Sorghastrum nutans is a warm season perennial grass that grows from 3 to 8 feet tall (Brakie, 2017). It is native to North America and is found in large swaths of the country from the east coast to the Rocky Mountains (Brakie, 2017). \n",
    "\n",
    "Sorghastrum nutans has deep roots and is suited to deep, moist soil with a wide pH range of 4.8 to 8.0 (Brakie, 2017). It has a medium tolerance to drought and requires 11 to 45 inches of annual precipitation (Brakie, 2017).\n",
    "\n",
    "It grows as elevations up to 6,500 ft and in area that get full sun exposure (Wilson, n.d.; North Carolina State Extension, n.d.)\n",
    "\n",
    "Sorghastrum nutans is grazed upon by a variety of species and also provides cover and nesting areas for birds (Brakie, 2017). It is also used for nesting by bees and as a food source for the Pepper and Salt Skipper butterfly (Brakie, 2017).\n",
    "\n",
    "Sorghastrum nutans is not currently categorized as threatened or engaged by the US Fish and Wildlife Service (Brakie, 2017)."
   ]
  },
  {
   "cell_type": "markdown",
   "metadata": {},
   "source": [
    "### Data\n",
    "This analysis utilized data related to soil pH, elevation, and precipitation.\n",
    "\n",
    "* Soil pH: Soil pH data was obtained from Polaris. Soil data was downloaded for each grassland area with at 60 to 100 cm depth. Each grassland's soil pH data consisted of a series of arrays that were merged and clipped to the boundaries of the grassland. A bounding box was used so the array was clipped to a rectangluar area containing the grassland.\n",
    "\n",
    "* Elevation: Elevation data was obtained from the Shuttle Radar Topography Mission (SRTM) dataset via the AppEEARS downloader. Data was downloaded for the full extent of both grasslands and then clipped to the bounds of each grassland. Elevation data was also used to calculate slope and aspect within each grasslands.\n",
    "\n",
    "* Precipitation: Data on projected precipitation in the year 2050 was obtained from MACA2. The CCSM4 climate model was used. Data was obtained for the RCP 4.5 and RCP 8.5 scenarios. Data was again clipped to the respective boundaries of each grassland.\n",
    "\n",
    "Individual data arrays for each data variable were harmonized prior to analysis.\n",
    "\n",
    "The table below shows plots for each data element for both grassland. In each plot, the boundaries of the grassland overlay the raster data. As mentioned above, both grasslands consist of patchworks of land, broken up by land held by other entities.\n",
    "\n",
    "\n",
    "  <body>\n",
    "    <table border = \"1\">\n",
    "         <tr>\n",
    "            <th>Pawnee National Grassland</th>\n",
    "            <th>Comanche National Grassland</th>\n",
    "         </tr>\n",
    "         <tr>\n",
    "            <td><img src=\"/workspaces/pth6570-earth-analytics-intro-final/pawnee_elev_plt.png\"  width=\"400\" alt=\"\"></td>\n",
    "            <td><img src=\"/workspaces/pth6570-earth-analytics-intro-final/comanche_elev_plt.png\"  width=\"400\" alt=\"\"></td>\n",
    "         </tr>\n",
    "         <tr>\n",
    "            <td><img src=\"/workspaces/pth6570-earth-analytics-intro-final/pawnee_aspect_plt.png\"  width=\"400\" alt=\"\"></td>\n",
    "            <td><img src=\"/workspaces/pth6570-earth-analytics-intro-final/comanche_aspect_plt.png\"  width=\"400\" alt=\"\"></td>\n",
    "         </tr>\n",
    "         <tr>\n",
    "            <td> <img src=\"/workspaces/pth6570-earth-analytics-intro-final/pawnee_pH_plt.png\"  width=\"400\" alt=\"\"></td>\n",
    "            <td> <img src=\"/workspaces/pth6570-earth-analytics-intro-final/comanche_pH_plt.png\"  width=\"400\" alt=\"\"></td>\n",
    "         </tr>\n",
    "         <tr>\n",
    "            <td> <img src=\"/workspaces/pth6570-earth-analytics-intro-final/pawnee_rcp45_plt.png\"  width=\"400\" alt=\"\"></td>\n",
    "            <td> <img src=\"/workspaces/pth6570-earth-analytics-intro-final/comanche_rcp45_plt.png\"  width=\"400\" alt=\"\"></td>\n",
    "         </tr>\n",
    "    </table>\n",
    "   </body>"
   ]
  },
  {
   "cell_type": "markdown",
   "metadata": {},
   "source": [
    "### Model\n",
    "The suitability of the environment in each grassland was modeled under RCP 4.5 and RCP 8.5 scenarios in 2050 using the CCSM4 model. The following benchmarks were used as acceptable parameters for:\n",
    "* Soil pH: 4.8 to 8.0 (Brakie, 2017)\n",
    "* Precipitation: 11 to 45 inches per year (Brakie, 2017)\n",
    "* Elevation: under 6500 ft (Wilson, n.d.)\n",
    "* Aspect: Not north-facing due to preference for full sun (North Carolina State Extension, n.d.)\n",
    "\n",
    "Arrays for each variable were combined to identify areas where habitat is expected to be suitable for Sorghastrum nutans in 2050. Areas that met all criteria listed above were categorized as suitable (1) while areas that did not meet one or more criteria were categorized as unsuitable (0). "
   ]
  },
  {
   "cell_type": "markdown",
   "metadata": {},
   "source": [
    "### Results"
   ]
  },
  {
   "cell_type": "markdown",
   "metadata": {},
   "source": [
    " #### Portions of both grasslands are expected to remain suitable for Sorghastrum nutans in 2050.\n",
    " \n",
    " Plots of each grassland under RCP 4.5 and 8.5 scenarios are below.\n",
    "\n",
    "  <body>\n",
    "    <table border = \"1\">\n",
    "         <tr>\n",
    "            <th>Pawnee National Grassland</th>\n",
    "            <th>Comanche National Grassland</th>\n",
    "         </tr>\n",
    "         <tr>\n",
    "            <td><a href=\"https://pth6570.github.io/earth-analytics-intro-final/pawnee_rcp45_model.html\">RCP 4.5 Model</a></td>\n",
    "            <td><a href=\"https://pth6570.github.io/earth-analytics-intro-final/comanche_rcp45_model.html\">RCP 4.5 Model</a></td>\n",
    "         </tr>\n",
    "         <tr>\n",
    "            <td><a href=\"https://pth6570.github.io/earth-analytics-intro-final/pawnee_rcp85_model.html\">RCP 8.5 Model</a></td>\n",
    "            <td><a href=\"https://pth6570.github.io/earth-analytics-intro-final/comanche_rcp85_model.html\">RCP 8.5 Model</a></td>\n",
    "         </tr>\n",
    "    </table>\n",
    "   </body>\n",
    "\n",
    "The RCP 4.5 and 8.5 models were very similar for both grasslands. While there were variations in precipitation (see plots of precipitation above) between the two scenarios, precipitation remained within the acceptable range for Sorghastrum nutans and thus the final model was similar for the two scenarios.\n",
    "\n",
    "Portions of both grasslands are expected to remain suitable for Sorghastrum nutans in 2050, under the conditions modeled here.\n",
    "\n",
    "In Pawnee, much of the grassland will provide suitable habitat for S. nutans under the conditions modeled here.\n",
    "\n",
    "In the Comanche grassland, the southeastern portion of the grassland would be less suitable for S. nutans, with much of the region lacking conditions for S. nutans. However, in the northeastern portion of the grassland, much of the land would be suitable for S. nutans."
   ]
  },
  {
   "cell_type": "markdown",
   "metadata": {},
   "source": [
    "### Data Citations"
   ]
  },
  {
   "cell_type": "code",
   "execution_count": 1,
   "metadata": {},
   "outputs": [],
   "source": [
    "%%capture\n",
    "%%bash\n",
    "jupyter nbconvert final_portfolio.ipynb --to html --no-input"
   ]
  }
 ],
 "metadata": {
  "kernelspec": {
   "display_name": "base",
   "language": "python",
   "name": "python3"
  },
  "language_info": {
   "codemirror_mode": {
    "name": "ipython",
    "version": 3
   },
   "file_extension": ".py",
   "mimetype": "text/x-python",
   "name": "python",
   "nbconvert_exporter": "python",
   "pygments_lexer": "ipython3",
   "version": "3.10.11"
  }
 },
 "nbformat": 4,
 "nbformat_minor": 2
}
